{
  "nbformat": 4,
  "nbformat_minor": 0,
  "metadata": {
    "colab": {
      "provenance": []
    },
    "kernelspec": {
      "name": "python3",
      "display_name": "Python 3"
    },
    "language_info": {
      "name": "python"
    }
  },
  "cells": [
    {
      "cell_type": "code",
      "execution_count": null,
      "metadata": {
        "id": "VF7RidYhqNfj"
      },
      "outputs": [],
      "source": []
    },
    {
      "cell_type": "markdown",
      "source": [
        "## DATA TYPES AND STRUCTURES"
      ],
      "metadata": {
        "id": "9xSB1AQXqg8D"
      }
    },
    {
      "cell_type": "markdown",
      "source": [
        "1. What are data structures, and why are they important?\n",
        "   - Data structures are organized ways to store, manage, and organize data to enable efficient access, modification, and processing. They provide the foundation for designing algorithms and play a key role in software development, databases, artificial intelligence, and more. Each data structure is designed to handle specific types of data and operations efficiently.\n",
        "\n",
        "   - Importance of Data Structures:\n",
        "     Optimized Resource Usage,\n",
        "     Efficiency,\n",
        "     Scalability:Problem-Solving.\n",
        "\n",
        "2.  Explain the difference between mutable and immutable data types with examples?\n",
        "    - Mutable Data Types\n",
        "Definition: These data types allow modification of their content without changing their identity (i.e., their memory address remains the same).\n",
        "\n",
        "\n",
        "\n",
        "\n",
        "   "
      ],
      "metadata": {
        "id": "kelaeilarSPl"
      }
    },
    {
      "cell_type": "code",
      "source": [
        "#example Lists in Python:\n",
        "\n",
        "\n",
        "my_list = [1, 2, 3]\n",
        "my_list.append(4)  # Modifies the list\n",
        "print(my_list)  # Output: [1, 2, 3, 4]"
      ],
      "metadata": {
        "colab": {
          "base_uri": "https://localhost:8080/"
        },
        "id": "sxEe_BrDudJO",
        "outputId": "22e39778-fbea-4e18-eaf9-49acdddaeb00"
      },
      "execution_count": null,
      "outputs": [
        {
          "output_type": "stream",
          "name": "stdout",
          "text": [
            "[1, 2, 3, 4]\n"
          ]
        }
      ]
    },
    {
      "cell_type": "markdown",
      "source": [
        "-  Immutable Data Types\n",
        "Definition: These data types do not allow modification of their content after creation. Any change results in the creation of a new object with a new memory address.\n"
      ],
      "metadata": {
        "id": "E4tJ4DqUwo-h"
      }
    },
    {
      "cell_type": "code",
      "source": [
        "#example Strings in Python:\n",
        "my_string = \"hello\"\n",
        "new_string = my_string + \" world\"  # Creates a new string\n",
        "print(my_string)\n",
        "print(new_string)"
      ],
      "metadata": {
        "colab": {
          "base_uri": "https://localhost:8080/"
        },
        "id": "byJp5oEKw9s9",
        "outputId": "3e40ab07-61e3-478a-d8c9-9685a457dd8e"
      },
      "execution_count": null,
      "outputs": [
        {
          "output_type": "stream",
          "name": "stdout",
          "text": [
            "hello\n",
            "hello world\n"
          ]
        }
      ]
    },
    {
      "cell_type": "markdown",
      "source": [
        "3. What are the main differences between lists and tuples in Python?\n",
        "   -  Lists and tuples in Python are both sequence data types that can store collections of items. However, they have significant differences in functionality, mutability, and use cases.\n",
        "\n",
        "   - List: A list in Python is an ordered, mutable, and dynamic collection of items that can store elements of any data type, including other lists. It is one of the most versatile and commonly used data structures in Python.\n",
        "\n",
        "   - Tuple: A tuple in Python is an ordered, immutable collection of items. It is similar to a list, but once a tuple is created, its elements cannot be changed, added, or removed. Tuples are often used to represent fixed collections of items, such as coordinates or records.\n",
        "\n",
        "4. Describe how dictionaries store data?\n",
        "   - Key-Value Pairs :A dictionary consists of unique keys that are associated with specific values.\n",
        "Syntax: {key1: value1, key2: value2, ...}\n",
        "   - Hash Table Implementation :under the hood, Python dictionaries use a hash table.\n",
        "Keys are hashed using a hashing function, which produces a unique hash value. This hash value determines where the key-value pair is stored in the dictionary.\n",
        "Values are stored in the memory location indexed by the hash of their keys.\n",
        "\n",
        "5. Why might you use a set instead of a list in Python?\n",
        "   - Because its a Uniqueness,\n",
        "   - Faster Membership Testing\n",
        "   - Set Operations,\n",
        "   - Improved Readability.\n",
        "6.  What is a string in Python, and how is it different from a list?\n",
        "    - A string in Python is an immutable sequence of characters used to represent text. Strings are enclosed in single quotes ('), double quotes (\"), or triple quotes (''' or \"\"\") for multiline text. Strings and lists are similar in that they are sequences, but they have significant differences in functionality, usage, and behavior.\n",
        "    - strings are best for handling text, while lists are ideal for managing collections of data that may need to be modified.\n",
        "\n",
        "7.  How do tuples ensure data integrity in Python?\n",
        "    - Tuples ensure data integrity in Python primarily because they are immutable data structures. Once a tuple is created, its elements cannot be modified, added, or removed.\n",
        "    \n",
        "8.  What is a hash table, and how does it relate to dictionaries in Python?\n",
        "    - A hash table is not a separate data structure you interact with directly, but rather, it is the underlying implementation of dictionaries (dict). Python dictionaries use a hash table to store key-value pairs, providing efficient lookup, insertion, and deletion operations.\n",
        "    - How does it relate to Dictionaries: when you use a dictionary in Python, you're essentially interacting with a hash table, with all the performance benefits and characteristics that come with it, such as fast average-case lookups and efficient memory usage.\n",
        "\n",
        "9. Can lists contain different data types in Python?\n",
        "   - Yes, lists in Python can contain different data types. Python is a dynamically typed language, meaning you don't have to specify the type of elements when creating a list. You can store multiple types of data—such as integers, strings, floating-point numbers, and even other lists or objects—in a single list.\n",
        "\n",
        "10. Explain why strings are immutable in Python?\n",
        "    - strings are immutable, means that once a string is created, its contents cannot be changed. This immutability has several important reasons and benefits, both in terms of performance and design.\n",
        "  \n",
        "11. What advantages do dictionaries offer over lists for certain tasks?\n",
        "    - Dictionaries offer several advantages over lists for certain tasks, particularly when you need to efficiently map keys to values or perform lookups.\n",
        "    - Advantages of Dictionaries over Lists: Faster lookups and updates by key (O(1) time complexity),\n",
        "Key-value pairing for efficient data association,\n",
        "No duplicates: Ensures unique keys,\n",
        "Optimized for searching for keys and checking membership.\n",
        "\n",
        "12. Describe a scenario where using a tuple would be preferable over a list?\n",
        "    - A tuple would be preferable over a list in scenarios where immutability, integrity, and efficiency are important.\n",
        "    - By using a tuple, you ensure that the data is protected from modification, is memory-efficient, and can be used effectively as a fixed collection or as part of data structures like dictionaries and sets.\n",
        "\n",
        "13. How do sets handle duplicate values in Python?\n",
        "    - sets automatically eliminate duplicate values. This means that when you try to add a duplicate element to a set, it will simply not be added. Sets are unordered collections of unique elements, which makes them a great choice when you need to store items without worrying about duplicates.\n",
        "\n",
        "14. How does the “in” keyword work differently for lists and dictionaries?\n",
        "    - The in keyword works differently for lists and dictionaries in Python because the way it checks for membership is based on the data structure it is applied to.\n",
        "    -  Using in with Lists:When you use the in keyword with a list, Python checks if the value you are looking for is present as an element in the list. The membership check scans through the list sequentially (linear search), which results in a time complexity of O(n), where n is the length of the list.\n",
        "    -  Using in with Dictionaries:When you use the in keyword with a dictionary, the behavior is different. By default, the in keyword checks for the keys of the dictionary, not the values.\n",
        "\n",
        "15. Can you modify the elements of a tuple? Explain why or why not?\n",
        "    - No, you cannot modify the elements of a tuple in Python. This is because tuples are immutable. Once a tuple is created, its elements cannot be changed, added, or removed. This is a fundamental characteristic of tuples in Python, and it distinguishes them from lists, which are mutable.\n",
        "  \n",
        "16. What is a nested dictionary, and give an example of its use case?\n",
        "    - A nested dictionary is a dictionary where values can be dictionaries themselves, enabling you to represent complex hierarchical data structures. Common use cases include managing student records, company employee data, configuration settings, and data relationships in systems. Nested dictionaries provide a flexible, organized, and efficient way to store and access multi-level data.\n",
        "    - Example:Example Use Case of a Nested Dictionary:one common use case for a nested dictionary is storing information about a collection of students, where each student has a set of attributes (like name, age, and grades), and those attributes themselves might be stored in further dictionaries.\n",
        "\n",
        "17. Describe the time complexity of accessing elements in a dictionary?\n",
        "    - The time complexity of accessing elements in a dictionary in Python is O(1) on average, meaning that the time it takes to access a value using a key is constant, regardless of the size of the dictionary.\n",
        "\n",
        "18. In what situations are lists preferred over dictionaries?\n",
        "    - Lists are preferred over dictionaries when:\n",
        "    - need to maintain order or sequence of elements.\n",
        "You need a collection of items where each element doesn't need a key,\n",
        "You need to modify the collection by adding, removing, or changing elements,\n",
        "You need to store homogeneous data,\n",
        "You need to perform index-based operations or sequential iteration over items,\n",
        "For use cases where you need unordered key-value pairs with fast lookups, dictionaries are the better choice.\n",
        "\n",
        "19. Why are dictionaries considered unordered, and how does that affect data retrieval?\n",
        "    - dictionaries are considered unordered because they do not guarantee the order of the elements when they are stored or retrieved. This behavior stems from the way dictionaries are implemented under the hood using hash tables.\n",
        "    - How Does This Affect Data Retrieval?\n",
        "Lookup by Key,the order of elements in the dictionary does not affect the speed of looking up a value by its key. This operation still has an average time complexity of O(1), whether or not the dictionary maintains insertion order. The key retrieval relies on the hash function, not the order.\n",
        "\n",
        "20. Explain the difference between a list and a dictionary in terms of data retrieval?\n",
        "    - Lists are preferred when you need to store an ordered collection of items and access them by their position in the list.\n",
        "    - Dictioniries are preferred when you need fast lookups by unique keys and when you need to associate values with specific keys.\n",
        "\n",
        "\n",
        "\n",
        "\n",
        "\n",
        "\n",
        "\n",
        "    \n",
        "    -\n",
        "\n",
        "\n",
        "\n",
        "\n",
        "\n",
        "\n",
        "\n",
        "\n",
        "\n",
        "\n",
        "\n",
        "\n",
        "\n",
        "\n",
        "\n",
        "\n",
        "\n",
        "\n",
        "\n",
        "\n",
        "\n",
        "\n",
        "\n",
        "      \n",
        "\n",
        "\n",
        "\n",
        "\n",
        "\n",
        "\n"
      ],
      "metadata": {
        "id": "mhgcdUlnxQNW"
      }
    },
    {
      "cell_type": "markdown",
      "source": [
        "#practical questions\n"
      ],
      "metadata": {
        "id": "lJlNtIfnBmez"
      }
    },
    {
      "cell_type": "code",
      "source": [
        "#1.Write a code to create a string with your name and print it?\n",
        "# Create a string with the name\n",
        "name = \"Abhigna\"\n",
        "\n",
        "# Print the string\n",
        "print(name)\n"
      ],
      "metadata": {
        "colab": {
          "base_uri": "https://localhost:8080/"
        },
        "id": "JiA08o4UCQ2e",
        "outputId": "42da3fec-b6a9-487e-ab59-9ba7c34ea41d"
      },
      "execution_count": null,
      "outputs": [
        {
          "output_type": "stream",
          "name": "stdout",
          "text": [
            "Abhigna\n"
          ]
        }
      ]
    },
    {
      "cell_type": "code",
      "source": [
        "#2.Write a code to find the length of the string \"Hello World\"?\n",
        "# Define the string\n",
        "string = \"Hello World\"\n",
        "\n",
        "# Find and print the length of the string\n",
        "length = len(string)\n",
        "print(length)\n"
      ],
      "metadata": {
        "colab": {
          "base_uri": "https://localhost:8080/"
        },
        "id": "B86HHcprCiXi",
        "outputId": "28925116-2aa1-41f0-df38-c9bc72a94f0e"
      },
      "execution_count": null,
      "outputs": [
        {
          "output_type": "stream",
          "name": "stdout",
          "text": [
            "11\n"
          ]
        }
      ]
    },
    {
      "cell_type": "code",
      "source": [
        "#3.Write a code to slice the first 3 characters from the string \"Python Programming\"?\n",
        "# Define the string\n",
        "string = \"Python Programming\"\n",
        "\n",
        "# Slice the first 3 characters\n",
        "sliced_string = string[:3]\n",
        "\n",
        "# Print the sliced string\n",
        "print(sliced_string)\n"
      ],
      "metadata": {
        "colab": {
          "base_uri": "https://localhost:8080/"
        },
        "id": "pQ0BMZJGC2XN",
        "outputId": "c78632dc-8cfc-44da-ccf0-efab8b5a1bf0"
      },
      "execution_count": null,
      "outputs": [
        {
          "output_type": "stream",
          "name": "stdout",
          "text": [
            "Pyt\n"
          ]
        }
      ]
    },
    {
      "cell_type": "code",
      "source": [
        "#4.Write a code to convert the string \"hello\" to uppercase?\n",
        "# Define the string\n",
        "string = \"hello\"\n",
        "\n",
        "# Convert the string to uppercase\n",
        "uppercase_string = string.upper()\n",
        "\n",
        "# Print the uppercase string\n",
        "print(uppercase_string)\n"
      ],
      "metadata": {
        "colab": {
          "base_uri": "https://localhost:8080/"
        },
        "id": "MU52-EHzDKXJ",
        "outputId": "4d405988-275c-447b-9df4-b57e26d397e7"
      },
      "execution_count": null,
      "outputs": [
        {
          "output_type": "stream",
          "name": "stdout",
          "text": [
            "HELLO\n"
          ]
        }
      ]
    },
    {
      "cell_type": "code",
      "source": [
        "#5. Write a code to replace the word \"apple\" with \"orange\" in the string \"I like apple\"?\n",
        "# Define the string\n",
        "string = \"I like apple\"\n",
        "\n",
        "# Replace \"apple\" with \"orange\"\n",
        "modified_string = string.replace(\"apple\", \"orange\")\n",
        "\n",
        "# Print the modified string\n",
        "print(modified_string)\n"
      ],
      "metadata": {
        "colab": {
          "base_uri": "https://localhost:8080/"
        },
        "id": "0beS6YbEDeBb",
        "outputId": "ea0b3a35-d7b6-4bf0-f933-9bd0cc35fc38"
      },
      "execution_count": null,
      "outputs": [
        {
          "output_type": "stream",
          "name": "stdout",
          "text": [
            "I like orange\n"
          ]
        }
      ]
    },
    {
      "cell_type": "code",
      "source": [
        "#6.Write a code to create a list with numbers 1 to 5 and print it?\n",
        "# Create a list with numbers from 1 to 5\n",
        "numbers = [1, 2, 3, 4, 5]\n",
        "\n",
        "# Print the list\n",
        "print(numbers)\n"
      ],
      "metadata": {
        "colab": {
          "base_uri": "https://localhost:8080/"
        },
        "id": "H0m8Yu0ID0EY",
        "outputId": "8041fcfa-2059-4946-8852-4fc8e8c0f3ef"
      },
      "execution_count": null,
      "outputs": [
        {
          "output_type": "stream",
          "name": "stdout",
          "text": [
            "[1, 2, 3, 4, 5]\n"
          ]
        }
      ]
    },
    {
      "cell_type": "code",
      "source": [
        "#7. Write a code to append the number 10 to the list [1, 2, 3, 4]?\n",
        "# Define the list\n",
        "numbers = [1, 2, 3, 4]\n",
        "\n",
        "# Append the number 10 to the list\n",
        "numbers.append(10)\n",
        "\n",
        "# Print the modified list\n",
        "print(numbers)\n"
      ],
      "metadata": {
        "colab": {
          "base_uri": "https://localhost:8080/"
        },
        "id": "XkvjGLXcElmN",
        "outputId": "41e96a02-7b3e-4a5c-faa6-e6fe302722ec"
      },
      "execution_count": null,
      "outputs": [
        {
          "output_type": "stream",
          "name": "stdout",
          "text": [
            "[1, 2, 3, 4, 10]\n"
          ]
        }
      ]
    },
    {
      "cell_type": "code",
      "source": [
        "#8.Write a code to remove the number 3 from the list [1, 2, 3, 4, 5]?\n",
        "# Define the list\n",
        "numbers = [1, 2, 3, 4, 5]\n",
        "\n",
        "# Remove the number 3 from the list\n",
        "numbers.remove(3)\n",
        "\n",
        "# Print the modified list\n",
        "print(numbers)\n"
      ],
      "metadata": {
        "colab": {
          "base_uri": "https://localhost:8080/"
        },
        "id": "puhLUO30E0WV",
        "outputId": "b0588d39-29a4-4f02-c228-4843c0197eee"
      },
      "execution_count": null,
      "outputs": [
        {
          "output_type": "stream",
          "name": "stdout",
          "text": [
            "[1, 2, 4, 5]\n"
          ]
        }
      ]
    },
    {
      "cell_type": "code",
      "source": [
        "#9.Write a code to access the second element in the list ['a', 'b', 'c', 'd']?\n",
        "# Define the list\n",
        "letters = ['a', 'b', 'c', 'd']\n",
        "\n",
        "# Access the second element (index 1)\n",
        "second_element = letters[1]\n",
        "\n",
        "# Print the second element\n",
        "print(second_element)\n"
      ],
      "metadata": {
        "colab": {
          "base_uri": "https://localhost:8080/"
        },
        "id": "F1lJGYCbFEfx",
        "outputId": "a6f270bc-9235-40c0-e1b1-a05f8081574b"
      },
      "execution_count": null,
      "outputs": [
        {
          "output_type": "stream",
          "name": "stdout",
          "text": [
            "b\n"
          ]
        }
      ]
    },
    {
      "cell_type": "code",
      "source": [
        "#10. Write a code to reverse the list [10, 20, 30, 40, 50]?\n",
        "# Define the list\n",
        "numbers = [10, 20, 30, 40, 50]\n",
        "\n",
        "# Reverse the list\n",
        "numbers.reverse()\n",
        "\n",
        "# Print the reversed list\n",
        "print(numbers)\n"
      ],
      "metadata": {
        "colab": {
          "base_uri": "https://localhost:8080/"
        },
        "id": "g1xymOkyFbkw",
        "outputId": "b55da035-db0c-4a30-a5c9-9c6508e00d09"
      },
      "execution_count": null,
      "outputs": [
        {
          "output_type": "stream",
          "name": "stdout",
          "text": [
            "[50, 40, 30, 20, 10]\n"
          ]
        }
      ]
    },
    {
      "cell_type": "code",
      "source": [
        "#11. Write a code to create a tuple with the elements 10, 20, 30 and print it?\n",
        "# Creating a tuple\n",
        "my_tuple = (10, 20, 30)\n",
        "\n",
        "# Printing the tuple\n",
        "print(\"The tuple is:\", my_tuple)\n"
      ],
      "metadata": {
        "colab": {
          "base_uri": "https://localhost:8080/"
        },
        "id": "HkefxLL8wwwr",
        "outputId": "94e638ee-4055-4faa-f387-201336966eab"
      },
      "execution_count": null,
      "outputs": [
        {
          "output_type": "stream",
          "name": "stdout",
          "text": [
            "The tuple is: (10, 20, 30)\n"
          ]
        }
      ]
    },
    {
      "cell_type": "code",
      "source": [
        "#12.Write a code to access the first element of the tuple ('apple', 'banana', 'cherry')?\n",
        "# Creating the tuple\n",
        "fruits = ('apple', 'banana', 'cherry')\n",
        "\n",
        "# Accessing the first element\n",
        "first_fruit = fruits[0]\n",
        "\n",
        "# Printing the first element\n",
        "print(\"The first element is:\", first_fruit)\n"
      ],
      "metadata": {
        "colab": {
          "base_uri": "https://localhost:8080/"
        },
        "id": "Tzd44I0RxL2j",
        "outputId": "b408a8e2-2239-4617-964e-5c3df7186014"
      },
      "execution_count": null,
      "outputs": [
        {
          "output_type": "stream",
          "name": "stdout",
          "text": [
            "The first element is: apple\n"
          ]
        }
      ]
    },
    {
      "cell_type": "code",
      "source": [
        "#13.Write a code to count how many times the number 2 appears in the tuple (1, 2, 3, 2, 4, 2)?\n",
        "# Creating the tuple\n",
        "numbers = (1, 2, 3, 2, 4, 2)\n",
        "\n",
        "# Counting occurrences of the number 2\n",
        "count_of_two = numbers.count(2)\n",
        "\n",
        "# Printing the result\n",
        "print(\"The number 2 appears\", count_of_two, \"times in the tuple.\")\n"
      ],
      "metadata": {
        "colab": {
          "base_uri": "https://localhost:8080/"
        },
        "id": "QGc1DgnOxzlF",
        "outputId": "5f02574b-6722-48e9-fa2a-b79c6810c671"
      },
      "execution_count": null,
      "outputs": [
        {
          "output_type": "stream",
          "name": "stdout",
          "text": [
            "The number 2 appears 3 times in the tuple.\n"
          ]
        }
      ]
    },
    {
      "cell_type": "code",
      "source": [
        "#14.Write a code to find the index of the element \"cat\" in the tuple ('dog', 'cat', 'rabbit')?\n",
        "# Creating the tuple\n",
        "animals = ('dog', 'cat', 'rabbit')\n",
        "\n",
        "# Finding the index of \"cat\"\n",
        "index_of_cat = animals.index('cat')\n",
        "\n",
        "# Printing the result\n",
        "print(\"The index of 'cat' is:\", index_of_cat)\n"
      ],
      "metadata": {
        "colab": {
          "base_uri": "https://localhost:8080/"
        },
        "id": "4cVuXeBMyGLE",
        "outputId": "63782c81-d7ee-4827-b891-0b15a6f3a63d"
      },
      "execution_count": null,
      "outputs": [
        {
          "output_type": "stream",
          "name": "stdout",
          "text": [
            "The index of 'cat' is: 1\n"
          ]
        }
      ]
    },
    {
      "cell_type": "code",
      "source": [
        "#15. Write a code to check if the element \"banana\" is in the tuple ('apple', 'orange', 'banana')?\n",
        "# Creating the tuple\n",
        "fruits = ('apple', 'orange', 'banana')\n",
        "\n",
        "# Checking if \"banana\" is in the tuple\n",
        "if 'banana' in fruits:\n",
        "    print(\"Yes, 'banana' is in the tuple.\")\n",
        "else:\n",
        "    print(\"No, 'banana' is not in the tuple.\")\n"
      ],
      "metadata": {
        "colab": {
          "base_uri": "https://localhost:8080/"
        },
        "id": "lm6CFDirytVb",
        "outputId": "637112e8-adcd-4aa8-d2a8-168b2f693c2a"
      },
      "execution_count": null,
      "outputs": [
        {
          "output_type": "stream",
          "name": "stdout",
          "text": [
            "Yes, 'banana' is in the tuple.\n"
          ]
        }
      ]
    },
    {
      "cell_type": "code",
      "source": [
        "#16.Write a code to create a set with the elements 1, 2, 3, 4, 5 and print it?\n",
        "# Creating a set\n",
        "my_set = {1, 2, 3, 4, 5}\n",
        "\n",
        "# Printing the set\n",
        "print(\"The set is:\", my_set)\n"
      ],
      "metadata": {
        "colab": {
          "base_uri": "https://localhost:8080/"
        },
        "id": "GLb5MkvfzCBk",
        "outputId": "b178a59d-bd8e-4282-f151-57ba6592588f"
      },
      "execution_count": null,
      "outputs": [
        {
          "output_type": "stream",
          "name": "stdout",
          "text": [
            "The set is: {1, 2, 3, 4, 5}\n"
          ]
        }
      ]
    },
    {
      "cell_type": "code",
      "source": [
        "#17.Write a code to add the element 6 to the set {1, 2, 3, 4}?\n",
        "# Creating the set\n",
        "my_set = {1, 2, 3, 4}\n",
        "\n",
        "# Adding the element 6 to the set\n",
        "my_set.add(6)\n",
        "\n",
        "# Printing the updated set\n",
        "print(\"The updated set is:\", my_set)\n"
      ],
      "metadata": {
        "colab": {
          "base_uri": "https://localhost:8080/"
        },
        "id": "cjQiJBnczhNz",
        "outputId": "c78de072-3fde-4aa4-a6cb-10eba083ef0e"
      },
      "execution_count": null,
      "outputs": [
        {
          "output_type": "stream",
          "name": "stdout",
          "text": [
            "The updated set is: {1, 2, 3, 4, 6}\n"
          ]
        }
      ]
    },
    {
      "cell_type": "code",
      "source": [
        "#18.Write a code to create a tuple with the elements 10, 20, 30 and print it?\n",
        "# Creating a tuple\n",
        "my_tuple = (10, 20, 30)\n",
        "\n",
        "# Printing the tuple\n",
        "print(\"The tuple is:\", my_tuple)\n"
      ],
      "metadata": {
        "colab": {
          "base_uri": "https://localhost:8080/"
        },
        "id": "0GNvWChuzyF1",
        "outputId": "8dbe5eee-b274-44c0-b3f2-ef6d3f92e723"
      },
      "execution_count": null,
      "outputs": [
        {
          "output_type": "stream",
          "name": "stdout",
          "text": [
            "The tuple is: (10, 20, 30)\n"
          ]
        }
      ]
    },
    {
      "cell_type": "code",
      "source": [
        "#19.Write a code to access the first element of the tuple ('apple', 'banana', 'cherry')\n",
        "# Creating the tuple\n",
        "fruits = ('apple', 'banana', 'cherry')\n",
        "\n",
        "# Accessing the first element\n",
        "first_element = fruits[0]\n",
        "\n",
        "# Printing the first element\n",
        "print(\"The first element is:\", first_element)\n",
        "\n",
        "\n"
      ],
      "metadata": {
        "colab": {
          "base_uri": "https://localhost:8080/"
        },
        "id": "fpz_Lt-U0E4o",
        "outputId": "974f8dd9-613d-478a-c4b9-2c1c5104864f"
      },
      "execution_count": null,
      "outputs": [
        {
          "output_type": "stream",
          "name": "stdout",
          "text": [
            "The first element is: apple\n"
          ]
        }
      ]
    },
    {
      "cell_type": "code",
      "source": [
        "#20.Write a code to count how many times the number 2 appears in the tuple (1, 2, 3, 2, 4, 2)?\n",
        "# Creating the tuple\n",
        "numbers = (1, 2, 3, 2, 4, 2)\n",
        "\n",
        "# Counting occurrences of the number 2\n",
        "count_of_two = numbers.count(2)\n",
        "\n",
        "# Printing the result\n",
        "print(\"The number 2 appears\", count_of_two, \"times in the tuple.\")\n"
      ],
      "metadata": {
        "colab": {
          "base_uri": "https://localhost:8080/"
        },
        "id": "-iQhi-go0T-3",
        "outputId": "e0bc153a-5a0f-456f-c662-dc61b9fc6579"
      },
      "execution_count": null,
      "outputs": [
        {
          "output_type": "stream",
          "name": "stdout",
          "text": [
            "The number 2 appears 3 times in the tuple.\n"
          ]
        }
      ]
    },
    {
      "cell_type": "code",
      "source": [
        "#21. Write a code to find the index of the element \"cat\" in the tuple ('dog', 'cat', 'rabbit')?\n",
        "# Creating the tuple\n",
        "animals = ('dog', 'cat', 'rabbit')\n",
        "\n",
        "# Finding the index of \"cat\"\n",
        "index_of_cat = animals.index('cat')\n",
        "\n",
        "# Printing the result\n",
        "print(\"The index of 'cat' is:\", index_of_cat)\n"
      ],
      "metadata": {
        "colab": {
          "base_uri": "https://localhost:8080/"
        },
        "id": "NDB-rrFN0orD",
        "outputId": "e35da01a-568f-42fa-df7c-12a9b2034bad"
      },
      "execution_count": null,
      "outputs": [
        {
          "output_type": "stream",
          "name": "stdout",
          "text": [
            "The index of 'cat' is: 1\n"
          ]
        }
      ]
    },
    {
      "cell_type": "code",
      "source": [
        "#22. Write a code to check if the element \"banana\" is in the tuple ('apple', 'orange', 'banana')?\n",
        "# Creating the tuple\n",
        "fruits = ('apple', 'orange', 'banana')\n",
        "\n",
        "# Checking if \"banana\" is in the tuple\n",
        "if 'banana' in fruits:\n",
        "    print(\"Yes, 'banana' is in the tuple.\")\n",
        "else:\n",
        "    print(\"No, 'banana' is not in the tuple.\")\n"
      ],
      "metadata": {
        "colab": {
          "base_uri": "https://localhost:8080/"
        },
        "id": "WM_yDLjL08Ge",
        "outputId": "bf8a6277-35ff-4525-b0c7-a14e2b565dd6"
      },
      "execution_count": null,
      "outputs": [
        {
          "output_type": "stream",
          "name": "stdout",
          "text": [
            "Yes, 'banana' is in the tuple.\n"
          ]
        }
      ]
    },
    {
      "cell_type": "code",
      "source": [
        "#23.Write a code to create a set with the elements 1, 2, 3, 4, 5 and print it?\n",
        "# Creating a set\n",
        "my_set = {1, 2, 3, 4, 5}\n",
        "\n",
        "# Printing the set\n",
        "print(\"The set is:\", my_set)\n"
      ],
      "metadata": {
        "colab": {
          "base_uri": "https://localhost:8080/"
        },
        "id": "TknIxCam1Q0p",
        "outputId": "dd062ab7-a9db-42eb-8b62-07cb2eefc45e"
      },
      "execution_count": null,
      "outputs": [
        {
          "output_type": "stream",
          "name": "stdout",
          "text": [
            "The set is: {1, 2, 3, 4, 5}\n"
          ]
        }
      ]
    },
    {
      "cell_type": "code",
      "source": [
        "#24.Write a code to add the element 6 to the set {1, 2, 3, 4}?\n",
        "# Creating the set\n",
        "my_set = {1, 2, 3, 4}\n",
        "\n",
        "# Adding the element 6 to the set\n",
        "my_set.add(6)\n",
        "\n",
        "# Printing the updated set\n",
        "print(\"The updated set is:\", my_set)\n"
      ],
      "metadata": {
        "colab": {
          "base_uri": "https://localhost:8080/"
        },
        "id": "nT2Mji_61ki0",
        "outputId": "5eda58b5-2e1c-4212-ee3d-11038d83885b"
      },
      "execution_count": null,
      "outputs": [
        {
          "output_type": "stream",
          "name": "stdout",
          "text": [
            "The updated set is: {1, 2, 3, 4, 6}\n"
          ]
        }
      ]
    }
  ]
}